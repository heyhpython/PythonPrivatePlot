{
 "cells": [
  {
   "cell_type": "markdown",
   "metadata": {},
   "source": [
    "## 1.基本使用\n",
    "### 1.1 生成对象"
   ]
  },
  {
   "cell_type": "code",
   "execution_count": 1,
   "metadata": {},
   "outputs": [],
   "source": [
    "import pandas as pd\n",
    "import numpy as np"
   ]
  },
  {
   "cell_type": "code",
   "execution_count": 2,
   "metadata": {},
   "outputs": [],
   "source": [
    "s = pd.Series([1, 3, 5, np.nan, 6, 8])"
   ]
  },
  {
   "cell_type": "code",
   "execution_count": 5,
   "metadata": {},
   "outputs": [
    {
     "data": {
      "text/plain": [
       "DatetimeIndex(['2020-04-20', '2020-04-21', '2020-04-22', '2020-04-23',\n",
       "               '2020-04-24', '2020-04-25'],\n",
       "              dtype='datetime64[ns]', freq='D')"
      ]
     },
     "execution_count": 5,
     "metadata": {},
     "output_type": "execute_result"
    }
   ],
   "source": [
    "dates = pd.date_range('20200420', periods=6)\n",
    "dates"
   ]
  },
  {
   "cell_type": "code",
   "execution_count": 6,
   "metadata": {},
   "outputs": [
    {
     "data": {
      "text/html": [
       "<div>\n",
       "<style scoped>\n",
       "    .dataframe tbody tr th:only-of-type {\n",
       "        vertical-align: middle;\n",
       "    }\n",
       "\n",
       "    .dataframe tbody tr th {\n",
       "        vertical-align: top;\n",
       "    }\n",
       "\n",
       "    .dataframe thead th {\n",
       "        text-align: right;\n",
       "    }\n",
       "</style>\n",
       "<table border=\"1\" class=\"dataframe\">\n",
       "  <thead>\n",
       "    <tr style=\"text-align: right;\">\n",
       "      <th></th>\n",
       "      <th>A</th>\n",
       "      <th>B</th>\n",
       "      <th>C</th>\n",
       "      <th>D</th>\n",
       "    </tr>\n",
       "  </thead>\n",
       "  <tbody>\n",
       "    <tr>\n",
       "      <th>2020-04-20</th>\n",
       "      <td>1.306384</td>\n",
       "      <td>0.521273</td>\n",
       "      <td>0.591144</td>\n",
       "      <td>0.760069</td>\n",
       "    </tr>\n",
       "    <tr>\n",
       "      <th>2020-04-21</th>\n",
       "      <td>0.772947</td>\n",
       "      <td>0.136959</td>\n",
       "      <td>1.399516</td>\n",
       "      <td>0.027104</td>\n",
       "    </tr>\n",
       "    <tr>\n",
       "      <th>2020-04-22</th>\n",
       "      <td>-1.203728</td>\n",
       "      <td>-1.642342</td>\n",
       "      <td>-0.491807</td>\n",
       "      <td>-0.031709</td>\n",
       "    </tr>\n",
       "    <tr>\n",
       "      <th>2020-04-23</th>\n",
       "      <td>-1.252011</td>\n",
       "      <td>0.097378</td>\n",
       "      <td>0.723450</td>\n",
       "      <td>-1.053562</td>\n",
       "    </tr>\n",
       "    <tr>\n",
       "      <th>2020-04-24</th>\n",
       "      <td>-0.189212</td>\n",
       "      <td>1.772852</td>\n",
       "      <td>-1.852801</td>\n",
       "      <td>-1.723982</td>\n",
       "    </tr>\n",
       "    <tr>\n",
       "      <th>2020-04-25</th>\n",
       "      <td>0.897561</td>\n",
       "      <td>0.880554</td>\n",
       "      <td>-0.473514</td>\n",
       "      <td>-1.854279</td>\n",
       "    </tr>\n",
       "  </tbody>\n",
       "</table>\n",
       "</div>"
      ],
      "text/plain": [
       "                   A         B         C         D\n",
       "2020-04-20  1.306384  0.521273  0.591144  0.760069\n",
       "2020-04-21  0.772947  0.136959  1.399516  0.027104\n",
       "2020-04-22 -1.203728 -1.642342 -0.491807 -0.031709\n",
       "2020-04-23 -1.252011  0.097378  0.723450 -1.053562\n",
       "2020-04-24 -0.189212  1.772852 -1.852801 -1.723982\n",
       "2020-04-25  0.897561  0.880554 -0.473514 -1.854279"
      ]
     },
     "execution_count": 6,
     "metadata": {},
     "output_type": "execute_result"
    }
   ],
   "source": [
    "df = pd.DataFrame(np.random.randn(6, 4), index=dates, columns=list('ABCD'))\n",
    "df"
   ]
  },
  {
   "cell_type": "code",
   "execution_count": 12,
   "metadata": {},
   "outputs": [
    {
     "data": {
      "text/plain": [
       "A           float64\n",
       "B    datetime64[ns]\n",
       "C           float32\n",
       "D           float32\n",
       "E          category\n",
       "F            object\n",
       "dtype: object"
      ]
     },
     "execution_count": 12,
     "metadata": {},
     "output_type": "execute_result"
    }
   ],
   "source": [
    "df2 = pd.DataFrame({\n",
    "    'A': 1.,\n",
    "    'B': pd.Timestamp('20200420'),\n",
    "    'C': pd.Series(1, index=list(range(4)), dtype='float32'),\n",
    "    'D': np.array([3]*4, dtype='float32'),\n",
    "    'E': pd.Categorical([\"test1\", \"test2\", \"test3\", \"test4\"]),\n",
    "    'F': 'foo'\n",
    "})\n",
    "df2\n",
    "df2.dtypes"
   ]
  },
  {
   "cell_type": "code",
   "execution_count": 18,
   "metadata": {},
   "outputs": [
    {
     "data": {
      "text/html": [
       "<div>\n",
       "<style scoped>\n",
       "    .dataframe tbody tr th:only-of-type {\n",
       "        vertical-align: middle;\n",
       "    }\n",
       "\n",
       "    .dataframe tbody tr th {\n",
       "        vertical-align: top;\n",
       "    }\n",
       "\n",
       "    .dataframe thead th {\n",
       "        text-align: right;\n",
       "    }\n",
       "</style>\n",
       "<table border=\"1\" class=\"dataframe\">\n",
       "  <thead>\n",
       "    <tr style=\"text-align: right;\">\n",
       "      <th></th>\n",
       "      <th>A</th>\n",
       "      <th>B</th>\n",
       "      <th>C</th>\n",
       "      <th>D</th>\n",
       "    </tr>\n",
       "  </thead>\n",
       "  <tbody>\n",
       "    <tr>\n",
       "      <th>count</th>\n",
       "      <td>6.000000</td>\n",
       "      <td>6.000000</td>\n",
       "      <td>6.000000</td>\n",
       "      <td>6.000000</td>\n",
       "    </tr>\n",
       "    <tr>\n",
       "      <th>mean</th>\n",
       "      <td>0.055323</td>\n",
       "      <td>0.294446</td>\n",
       "      <td>-0.017335</td>\n",
       "      <td>-0.646060</td>\n",
       "    </tr>\n",
       "    <tr>\n",
       "      <th>std</th>\n",
       "      <td>1.108479</td>\n",
       "      <td>1.130968</td>\n",
       "      <td>1.160055</td>\n",
       "      <td>1.057879</td>\n",
       "    </tr>\n",
       "    <tr>\n",
       "      <th>min</th>\n",
       "      <td>-1.252011</td>\n",
       "      <td>-1.642342</td>\n",
       "      <td>-1.852801</td>\n",
       "      <td>-1.854279</td>\n",
       "    </tr>\n",
       "    <tr>\n",
       "      <th>25%</th>\n",
       "      <td>-0.950099</td>\n",
       "      <td>0.107273</td>\n",
       "      <td>-0.487234</td>\n",
       "      <td>-1.556377</td>\n",
       "    </tr>\n",
       "    <tr>\n",
       "      <th>50%</th>\n",
       "      <td>0.291867</td>\n",
       "      <td>0.329116</td>\n",
       "      <td>0.058815</td>\n",
       "      <td>-0.542636</td>\n",
       "    </tr>\n",
       "    <tr>\n",
       "      <th>75%</th>\n",
       "      <td>0.866407</td>\n",
       "      <td>0.790734</td>\n",
       "      <td>0.690373</td>\n",
       "      <td>0.012401</td>\n",
       "    </tr>\n",
       "    <tr>\n",
       "      <th>max</th>\n",
       "      <td>1.306384</td>\n",
       "      <td>1.772852</td>\n",
       "      <td>1.399516</td>\n",
       "      <td>0.760069</td>\n",
       "    </tr>\n",
       "  </tbody>\n",
       "</table>\n",
       "</div>"
      ],
      "text/plain": [
       "              A         B         C         D\n",
       "count  6.000000  6.000000  6.000000  6.000000\n",
       "mean   0.055323  0.294446 -0.017335 -0.646060\n",
       "std    1.108479  1.130968  1.160055  1.057879\n",
       "min   -1.252011 -1.642342 -1.852801 -1.854279\n",
       "25%   -0.950099  0.107273 -0.487234 -1.556377\n",
       "50%    0.291867  0.329116  0.058815 -0.542636\n",
       "75%    0.866407  0.790734  0.690373  0.012401\n",
       "max    1.306384  1.772852  1.399516  0.760069"
      ]
     },
     "execution_count": 18,
     "metadata": {},
     "output_type": "execute_result"
    }
   ],
   "source": [
    "df.describe()  # 查看数据统计摘要"
   ]
  },
  {
   "cell_type": "code",
   "execution_count": 19,
   "metadata": {},
   "outputs": [
    {
     "data": {
      "text/html": [
       "<div>\n",
       "<style scoped>\n",
       "    .dataframe tbody tr th:only-of-type {\n",
       "        vertical-align: middle;\n",
       "    }\n",
       "\n",
       "    .dataframe tbody tr th {\n",
       "        vertical-align: top;\n",
       "    }\n",
       "\n",
       "    .dataframe thead th {\n",
       "        text-align: right;\n",
       "    }\n",
       "</style>\n",
       "<table border=\"1\" class=\"dataframe\">\n",
       "  <thead>\n",
       "    <tr style=\"text-align: right;\">\n",
       "      <th></th>\n",
       "      <th>2020-04-20</th>\n",
       "      <th>2020-04-21</th>\n",
       "      <th>2020-04-22</th>\n",
       "      <th>2020-04-23</th>\n",
       "      <th>2020-04-24</th>\n",
       "      <th>2020-04-25</th>\n",
       "    </tr>\n",
       "  </thead>\n",
       "  <tbody>\n",
       "    <tr>\n",
       "      <th>A</th>\n",
       "      <td>1.306384</td>\n",
       "      <td>0.772947</td>\n",
       "      <td>-1.203728</td>\n",
       "      <td>-1.252011</td>\n",
       "      <td>-0.189212</td>\n",
       "      <td>0.897561</td>\n",
       "    </tr>\n",
       "    <tr>\n",
       "      <th>B</th>\n",
       "      <td>0.521273</td>\n",
       "      <td>0.136959</td>\n",
       "      <td>-1.642342</td>\n",
       "      <td>0.097378</td>\n",
       "      <td>1.772852</td>\n",
       "      <td>0.880554</td>\n",
       "    </tr>\n",
       "    <tr>\n",
       "      <th>C</th>\n",
       "      <td>0.591144</td>\n",
       "      <td>1.399516</td>\n",
       "      <td>-0.491807</td>\n",
       "      <td>0.723450</td>\n",
       "      <td>-1.852801</td>\n",
       "      <td>-0.473514</td>\n",
       "    </tr>\n",
       "    <tr>\n",
       "      <th>D</th>\n",
       "      <td>0.760069</td>\n",
       "      <td>0.027104</td>\n",
       "      <td>-0.031709</td>\n",
       "      <td>-1.053562</td>\n",
       "      <td>-1.723982</td>\n",
       "      <td>-1.854279</td>\n",
       "    </tr>\n",
       "  </tbody>\n",
       "</table>\n",
       "</div>"
      ],
      "text/plain": [
       "   2020-04-20  2020-04-21  2020-04-22  2020-04-23  2020-04-24  2020-04-25\n",
       "A    1.306384    0.772947   -1.203728   -1.252011   -0.189212    0.897561\n",
       "B    0.521273    0.136959   -1.642342    0.097378    1.772852    0.880554\n",
       "C    0.591144    1.399516   -0.491807    0.723450   -1.852801   -0.473514\n",
       "D    0.760069    0.027104   -0.031709   -1.053562   -1.723982   -1.854279"
      ]
     },
     "execution_count": 19,
     "metadata": {},
     "output_type": "execute_result"
    }
   ],
   "source": [
    "df.T  # 数据转置"
   ]
  },
  {
   "cell_type": "code",
   "execution_count": 28,
   "metadata": {},
   "outputs": [
    {
     "data": {
      "text/html": [
       "<div>\n",
       "<style scoped>\n",
       "    .dataframe tbody tr th:only-of-type {\n",
       "        vertical-align: middle;\n",
       "    }\n",
       "\n",
       "    .dataframe tbody tr th {\n",
       "        vertical-align: top;\n",
       "    }\n",
       "\n",
       "    .dataframe thead th {\n",
       "        text-align: right;\n",
       "    }\n",
       "</style>\n",
       "<table border=\"1\" class=\"dataframe\">\n",
       "  <thead>\n",
       "    <tr style=\"text-align: right;\">\n",
       "      <th></th>\n",
       "      <th>D</th>\n",
       "      <th>C</th>\n",
       "      <th>B</th>\n",
       "      <th>A</th>\n",
       "    </tr>\n",
       "  </thead>\n",
       "  <tbody>\n",
       "    <tr>\n",
       "      <th>2020-04-20</th>\n",
       "      <td>0.760069</td>\n",
       "      <td>0.591144</td>\n",
       "      <td>0.521273</td>\n",
       "      <td>1.306384</td>\n",
       "    </tr>\n",
       "    <tr>\n",
       "      <th>2020-04-21</th>\n",
       "      <td>0.027104</td>\n",
       "      <td>1.399516</td>\n",
       "      <td>0.136959</td>\n",
       "      <td>0.772947</td>\n",
       "    </tr>\n",
       "    <tr>\n",
       "      <th>2020-04-22</th>\n",
       "      <td>-0.031709</td>\n",
       "      <td>-0.491807</td>\n",
       "      <td>-1.642342</td>\n",
       "      <td>-1.203728</td>\n",
       "    </tr>\n",
       "    <tr>\n",
       "      <th>2020-04-23</th>\n",
       "      <td>-1.053562</td>\n",
       "      <td>0.723450</td>\n",
       "      <td>0.097378</td>\n",
       "      <td>-1.252011</td>\n",
       "    </tr>\n",
       "    <tr>\n",
       "      <th>2020-04-24</th>\n",
       "      <td>-1.723982</td>\n",
       "      <td>-1.852801</td>\n",
       "      <td>1.772852</td>\n",
       "      <td>-0.189212</td>\n",
       "    </tr>\n",
       "    <tr>\n",
       "      <th>2020-04-25</th>\n",
       "      <td>-1.854279</td>\n",
       "      <td>-0.473514</td>\n",
       "      <td>0.880554</td>\n",
       "      <td>0.897561</td>\n",
       "    </tr>\n",
       "  </tbody>\n",
       "</table>\n",
       "</div>"
      ],
      "text/plain": [
       "                   D         C         B         A\n",
       "2020-04-20  0.760069  0.591144  0.521273  1.306384\n",
       "2020-04-21  0.027104  1.399516  0.136959  0.772947\n",
       "2020-04-22 -0.031709 -0.491807 -1.642342 -1.203728\n",
       "2020-04-23 -1.053562  0.723450  0.097378 -1.252011\n",
       "2020-04-24 -1.723982 -1.852801  1.772852 -0.189212\n",
       "2020-04-25 -1.854279 -0.473514  0.880554  0.897561"
      ]
     },
     "execution_count": 28,
     "metadata": {},
     "output_type": "execute_result"
    }
   ],
   "source": [
    "df.sort_index(axis=1, ascending=False)  # 0代表纵轴 1代表横轴，assending 代表升序"
   ]
  },
  {
   "cell_type": "code",
   "execution_count": 31,
   "metadata": {},
   "outputs": [
    {
     "data": {
      "text/html": [
       "<div>\n",
       "<style scoped>\n",
       "    .dataframe tbody tr th:only-of-type {\n",
       "        vertical-align: middle;\n",
       "    }\n",
       "\n",
       "    .dataframe tbody tr th {\n",
       "        vertical-align: top;\n",
       "    }\n",
       "\n",
       "    .dataframe thead th {\n",
       "        text-align: right;\n",
       "    }\n",
       "</style>\n",
       "<table border=\"1\" class=\"dataframe\">\n",
       "  <thead>\n",
       "    <tr style=\"text-align: right;\">\n",
       "      <th></th>\n",
       "      <th>A</th>\n",
       "      <th>B</th>\n",
       "      <th>C</th>\n",
       "      <th>D</th>\n",
       "    </tr>\n",
       "  </thead>\n",
       "  <tbody>\n",
       "    <tr>\n",
       "      <th>2020-04-22</th>\n",
       "      <td>-1.203728</td>\n",
       "      <td>-1.642342</td>\n",
       "      <td>-0.491807</td>\n",
       "      <td>-0.031709</td>\n",
       "    </tr>\n",
       "    <tr>\n",
       "      <th>2020-04-23</th>\n",
       "      <td>-1.252011</td>\n",
       "      <td>0.097378</td>\n",
       "      <td>0.723450</td>\n",
       "      <td>-1.053562</td>\n",
       "    </tr>\n",
       "    <tr>\n",
       "      <th>2020-04-21</th>\n",
       "      <td>0.772947</td>\n",
       "      <td>0.136959</td>\n",
       "      <td>1.399516</td>\n",
       "      <td>0.027104</td>\n",
       "    </tr>\n",
       "    <tr>\n",
       "      <th>2020-04-20</th>\n",
       "      <td>1.306384</td>\n",
       "      <td>0.521273</td>\n",
       "      <td>0.591144</td>\n",
       "      <td>0.760069</td>\n",
       "    </tr>\n",
       "    <tr>\n",
       "      <th>2020-04-25</th>\n",
       "      <td>0.897561</td>\n",
       "      <td>0.880554</td>\n",
       "      <td>-0.473514</td>\n",
       "      <td>-1.854279</td>\n",
       "    </tr>\n",
       "    <tr>\n",
       "      <th>2020-04-24</th>\n",
       "      <td>-0.189212</td>\n",
       "      <td>1.772852</td>\n",
       "      <td>-1.852801</td>\n",
       "      <td>-1.723982</td>\n",
       "    </tr>\n",
       "  </tbody>\n",
       "</table>\n",
       "</div>"
      ],
      "text/plain": [
       "                   A         B         C         D\n",
       "2020-04-22 -1.203728 -1.642342 -0.491807 -0.031709\n",
       "2020-04-23 -1.252011  0.097378  0.723450 -1.053562\n",
       "2020-04-21  0.772947  0.136959  1.399516  0.027104\n",
       "2020-04-20  1.306384  0.521273  0.591144  0.760069\n",
       "2020-04-25  0.897561  0.880554 -0.473514 -1.854279\n",
       "2020-04-24 -0.189212  1.772852 -1.852801 -1.723982"
      ]
     },
     "execution_count": 31,
     "metadata": {},
     "output_type": "execute_result"
    }
   ],
   "source": [
    "df.sort_values(by='B')  # 对按B列的数据进行排序"
   ]
  },
  {
   "cell_type": "code",
   "execution_count": 32,
   "metadata": {},
   "outputs": [
    {
     "data": {
      "text/plain": [
       "2020-04-20    True\n",
       "2020-04-21    True\n",
       "2020-04-22    True\n",
       "2020-04-23    True\n",
       "2020-04-24    True\n",
       "2020-04-25    True\n",
       "Freq: D, Name: A, dtype: bool"
      ]
     },
     "execution_count": 32,
     "metadata": {},
     "output_type": "execute_result"
    }
   ],
   "source": [
    "# 访问数据\n",
    "df.A == df['A']"
   ]
  },
  {
   "cell_type": "code",
   "execution_count": 33,
   "metadata": {},
   "outputs": [
    {
     "data": {
      "text/html": [
       "<div>\n",
       "<style scoped>\n",
       "    .dataframe tbody tr th:only-of-type {\n",
       "        vertical-align: middle;\n",
       "    }\n",
       "\n",
       "    .dataframe tbody tr th {\n",
       "        vertical-align: top;\n",
       "    }\n",
       "\n",
       "    .dataframe thead th {\n",
       "        text-align: right;\n",
       "    }\n",
       "</style>\n",
       "<table border=\"1\" class=\"dataframe\">\n",
       "  <thead>\n",
       "    <tr style=\"text-align: right;\">\n",
       "      <th></th>\n",
       "      <th>A</th>\n",
       "      <th>B</th>\n",
       "      <th>C</th>\n",
       "      <th>D</th>\n",
       "    </tr>\n",
       "  </thead>\n",
       "  <tbody>\n",
       "    <tr>\n",
       "      <th>2020-04-20</th>\n",
       "      <td>1.306384</td>\n",
       "      <td>0.521273</td>\n",
       "      <td>0.591144</td>\n",
       "      <td>0.760069</td>\n",
       "    </tr>\n",
       "    <tr>\n",
       "      <th>2020-04-21</th>\n",
       "      <td>0.772947</td>\n",
       "      <td>0.136959</td>\n",
       "      <td>1.399516</td>\n",
       "      <td>0.027104</td>\n",
       "    </tr>\n",
       "    <tr>\n",
       "      <th>2020-04-22</th>\n",
       "      <td>-1.203728</td>\n",
       "      <td>-1.642342</td>\n",
       "      <td>-0.491807</td>\n",
       "      <td>-0.031709</td>\n",
       "    </tr>\n",
       "  </tbody>\n",
       "</table>\n",
       "</div>"
      ],
      "text/plain": [
       "                   A         B         C         D\n",
       "2020-04-20  1.306384  0.521273  0.591144  0.760069\n",
       "2020-04-21  0.772947  0.136959  1.399516  0.027104\n",
       "2020-04-22 -1.203728 -1.642342 -0.491807 -0.031709"
      ]
     },
     "execution_count": 33,
     "metadata": {},
     "output_type": "execute_result"
    }
   ],
   "source": [
    "# 切片\n",
    "df[0:3]"
   ]
  },
  {
   "cell_type": "code",
   "execution_count": null,
   "metadata": {},
   "outputs": [],
   "source": []
  }
 ],
 "metadata": {
  "kernelspec": {
   "display_name": "Python 3",
   "language": "python",
   "name": "python3"
  },
  "language_info": {
   "codemirror_mode": {
    "name": "ipython",
    "version": 3
   },
   "file_extension": ".py",
   "mimetype": "text/x-python",
   "name": "python",
   "nbconvert_exporter": "python",
   "pygments_lexer": "ipython3",
   "version": "3.8.0"
  }
 },
 "nbformat": 4,
 "nbformat_minor": 4
}
